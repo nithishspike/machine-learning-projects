{
 "cells": [
  {
   "cell_type": "code",
   "execution_count": 1,
   "id": "88e94a78",
   "metadata": {
    "_cell_guid": "b1076dfc-b9ad-4769-8c92-a6c4dae69d19",
    "_uuid": "8f2839f25d086af736a60e9eeb907d3b93b6e0e5",
    "execution": {
     "iopub.execute_input": "2024-02-02T20:39:11.961453Z",
     "iopub.status.busy": "2024-02-02T20:39:11.960938Z",
     "iopub.status.idle": "2024-02-02T20:39:12.960480Z",
     "shell.execute_reply": "2024-02-02T20:39:12.958628Z"
    },
    "papermill": {
     "duration": 1.019218,
     "end_time": "2024-02-02T20:39:12.963305",
     "exception": false,
     "start_time": "2024-02-02T20:39:11.944087",
     "status": "completed"
    },
    "tags": []
   },
   "outputs": [
    {
     "name": "stdout",
     "output_type": "stream",
     "text": [
      "/kaggle/input/sms-spam-collection-dataset/spam.csv\n"
     ]
    }
   ],
   "source": [
    "\n",
    "import numpy as np \n",
    "import pandas as pd \n",
    "\n",
    "import os\n",
    "for dirname, _, filenames in os.walk('/kaggle/input'):\n",
    "    for filename in filenames:\n",
    "        print(os.path.join(dirname, filename))\n"
   ]
  },
  {
   "cell_type": "markdown",
   "id": "e6e1fc08",
   "metadata": {
    "execution": {
     "iopub.execute_input": "2024-02-02T20:20:25.510190Z",
     "iopub.status.busy": "2024-02-02T20:20:25.509754Z",
     "iopub.status.idle": "2024-02-02T20:20:25.519036Z",
     "shell.execute_reply": "2024-02-02T20:20:25.517367Z",
     "shell.execute_reply.started": "2024-02-02T20:20:25.510157Z"
    },
    "papermill": {
     "duration": 0.009576,
     "end_time": "2024-02-02T20:39:12.983158",
     "exception": false,
     "start_time": "2024-02-02T20:39:12.973582",
     "status": "completed"
    },
    "tags": []
   },
   "source": [
    "# Step 1: Reading the data"
   ]
  },
  {
   "cell_type": "code",
   "execution_count": 2,
   "id": "028177c8",
   "metadata": {
    "execution": {
     "iopub.execute_input": "2024-02-02T20:39:13.005468Z",
     "iopub.status.busy": "2024-02-02T20:39:13.004881Z",
     "iopub.status.idle": "2024-02-02T20:39:13.046077Z",
     "shell.execute_reply": "2024-02-02T20:39:13.045003Z"
    },
    "papermill": {
     "duration": 0.055936,
     "end_time": "2024-02-02T20:39:13.049200",
     "exception": false,
     "start_time": "2024-02-02T20:39:12.993264",
     "status": "completed"
    },
    "tags": []
   },
   "outputs": [],
   "source": [
    "df=pd.read_csv(\"/kaggle/input/sms-spam-collection-dataset/spam.csv\",encoding='latin1')"
   ]
  },
  {
   "cell_type": "code",
   "execution_count": 3,
   "id": "16eb4211",
   "metadata": {
    "execution": {
     "iopub.execute_input": "2024-02-02T20:39:13.071982Z",
     "iopub.status.busy": "2024-02-02T20:39:13.071299Z",
     "iopub.status.idle": "2024-02-02T20:39:13.090648Z",
     "shell.execute_reply": "2024-02-02T20:39:13.089613Z"
    },
    "papermill": {
     "duration": 0.033665,
     "end_time": "2024-02-02T20:39:13.093245",
     "exception": false,
     "start_time": "2024-02-02T20:39:13.059580",
     "status": "completed"
    },
    "tags": []
   },
   "outputs": [
    {
     "data": {
      "text/html": [
       "<div>\n",
       "<style scoped>\n",
       "    .dataframe tbody tr th:only-of-type {\n",
       "        vertical-align: middle;\n",
       "    }\n",
       "\n",
       "    .dataframe tbody tr th {\n",
       "        vertical-align: top;\n",
       "    }\n",
       "\n",
       "    .dataframe thead th {\n",
       "        text-align: right;\n",
       "    }\n",
       "</style>\n",
       "<table border=\"1\" class=\"dataframe\">\n",
       "  <thead>\n",
       "    <tr style=\"text-align: right;\">\n",
       "      <th></th>\n",
       "      <th>v1</th>\n",
       "      <th>v2</th>\n",
       "      <th>Unnamed: 2</th>\n",
       "      <th>Unnamed: 3</th>\n",
       "      <th>Unnamed: 4</th>\n",
       "    </tr>\n",
       "  </thead>\n",
       "  <tbody>\n",
       "    <tr>\n",
       "      <th>0</th>\n",
       "      <td>ham</td>\n",
       "      <td>Go until jurong point, crazy.. Available only ...</td>\n",
       "      <td>NaN</td>\n",
       "      <td>NaN</td>\n",
       "      <td>NaN</td>\n",
       "    </tr>\n",
       "    <tr>\n",
       "      <th>1</th>\n",
       "      <td>ham</td>\n",
       "      <td>Ok lar... Joking wif u oni...</td>\n",
       "      <td>NaN</td>\n",
       "      <td>NaN</td>\n",
       "      <td>NaN</td>\n",
       "    </tr>\n",
       "    <tr>\n",
       "      <th>2</th>\n",
       "      <td>spam</td>\n",
       "      <td>Free entry in 2 a wkly comp to win FA Cup fina...</td>\n",
       "      <td>NaN</td>\n",
       "      <td>NaN</td>\n",
       "      <td>NaN</td>\n",
       "    </tr>\n",
       "    <tr>\n",
       "      <th>3</th>\n",
       "      <td>ham</td>\n",
       "      <td>U dun say so early hor... U c already then say...</td>\n",
       "      <td>NaN</td>\n",
       "      <td>NaN</td>\n",
       "      <td>NaN</td>\n",
       "    </tr>\n",
       "    <tr>\n",
       "      <th>4</th>\n",
       "      <td>ham</td>\n",
       "      <td>Nah I don't think he goes to usf, he lives aro...</td>\n",
       "      <td>NaN</td>\n",
       "      <td>NaN</td>\n",
       "      <td>NaN</td>\n",
       "    </tr>\n",
       "  </tbody>\n",
       "</table>\n",
       "</div>"
      ],
      "text/plain": [
       "     v1                                                 v2 Unnamed: 2  \\\n",
       "0   ham  Go until jurong point, crazy.. Available only ...        NaN   \n",
       "1   ham                      Ok lar... Joking wif u oni...        NaN   \n",
       "2  spam  Free entry in 2 a wkly comp to win FA Cup fina...        NaN   \n",
       "3   ham  U dun say so early hor... U c already then say...        NaN   \n",
       "4   ham  Nah I don't think he goes to usf, he lives aro...        NaN   \n",
       "\n",
       "  Unnamed: 3 Unnamed: 4  \n",
       "0        NaN        NaN  \n",
       "1        NaN        NaN  \n",
       "2        NaN        NaN  \n",
       "3        NaN        NaN  \n",
       "4        NaN        NaN  "
      ]
     },
     "execution_count": 3,
     "metadata": {},
     "output_type": "execute_result"
    }
   ],
   "source": [
    "df.head()"
   ]
  },
  {
   "cell_type": "markdown",
   "id": "a8737ac0",
   "metadata": {
    "papermill": {
     "duration": 0.009994,
     "end_time": "2024-02-02T20:39:13.113951",
     "exception": false,
     "start_time": "2024-02-02T20:39:13.103957",
     "status": "completed"
    },
    "tags": []
   },
   "source": [
    "# Removing unwanted columns"
   ]
  },
  {
   "cell_type": "code",
   "execution_count": 4,
   "id": "0d88b81e",
   "metadata": {
    "execution": {
     "iopub.execute_input": "2024-02-02T20:39:13.136586Z",
     "iopub.status.busy": "2024-02-02T20:39:13.136156Z",
     "iopub.status.idle": "2024-02-02T20:39:13.149380Z",
     "shell.execute_reply": "2024-02-02T20:39:13.148322Z"
    },
    "papermill": {
     "duration": 0.027556,
     "end_time": "2024-02-02T20:39:13.151968",
     "exception": false,
     "start_time": "2024-02-02T20:39:13.124412",
     "status": "completed"
    },
    "tags": []
   },
   "outputs": [],
   "source": [
    "df=df.drop([\"Unnamed: 2\",\"Unnamed: 3\",\"Unnamed: 4\"],axis=1)"
   ]
  },
  {
   "cell_type": "markdown",
   "id": "b3f0bebf",
   "metadata": {
    "papermill": {
     "duration": 0.010615,
     "end_time": "2024-02-02T20:39:13.173365",
     "exception": false,
     "start_time": "2024-02-02T20:39:13.162750",
     "status": "completed"
    },
    "tags": []
   },
   "source": [
    "# Renaming Target columns"
   ]
  },
  {
   "cell_type": "code",
   "execution_count": 5,
   "id": "c93408a4",
   "metadata": {
    "execution": {
     "iopub.execute_input": "2024-02-02T20:39:13.197486Z",
     "iopub.status.busy": "2024-02-02T20:39:13.197007Z",
     "iopub.status.idle": "2024-02-02T20:39:13.203879Z",
     "shell.execute_reply": "2024-02-02T20:39:13.202314Z"
    },
    "papermill": {
     "duration": 0.021758,
     "end_time": "2024-02-02T20:39:13.206593",
     "exception": false,
     "start_time": "2024-02-02T20:39:13.184835",
     "status": "completed"
    },
    "tags": []
   },
   "outputs": [],
   "source": [
    "df.rename({'v1':\"Target\",'v2':'mail'},inplace=True,axis=1)"
   ]
  },
  {
   "cell_type": "code",
   "execution_count": 6,
   "id": "5319a094",
   "metadata": {
    "execution": {
     "iopub.execute_input": "2024-02-02T20:39:13.231087Z",
     "iopub.status.busy": "2024-02-02T20:39:13.229759Z",
     "iopub.status.idle": "2024-02-02T20:39:13.240906Z",
     "shell.execute_reply": "2024-02-02T20:39:13.240031Z"
    },
    "papermill": {
     "duration": 0.026105,
     "end_time": "2024-02-02T20:39:13.243252",
     "exception": false,
     "start_time": "2024-02-02T20:39:13.217147",
     "status": "completed"
    },
    "tags": []
   },
   "outputs": [
    {
     "data": {
      "text/html": [
       "<div>\n",
       "<style scoped>\n",
       "    .dataframe tbody tr th:only-of-type {\n",
       "        vertical-align: middle;\n",
       "    }\n",
       "\n",
       "    .dataframe tbody tr th {\n",
       "        vertical-align: top;\n",
       "    }\n",
       "\n",
       "    .dataframe thead th {\n",
       "        text-align: right;\n",
       "    }\n",
       "</style>\n",
       "<table border=\"1\" class=\"dataframe\">\n",
       "  <thead>\n",
       "    <tr style=\"text-align: right;\">\n",
       "      <th></th>\n",
       "      <th>Target</th>\n",
       "      <th>mail</th>\n",
       "    </tr>\n",
       "  </thead>\n",
       "  <tbody>\n",
       "    <tr>\n",
       "      <th>0</th>\n",
       "      <td>ham</td>\n",
       "      <td>Go until jurong point, crazy.. Available only ...</td>\n",
       "    </tr>\n",
       "    <tr>\n",
       "      <th>1</th>\n",
       "      <td>ham</td>\n",
       "      <td>Ok lar... Joking wif u oni...</td>\n",
       "    </tr>\n",
       "    <tr>\n",
       "      <th>2</th>\n",
       "      <td>spam</td>\n",
       "      <td>Free entry in 2 a wkly comp to win FA Cup fina...</td>\n",
       "    </tr>\n",
       "    <tr>\n",
       "      <th>3</th>\n",
       "      <td>ham</td>\n",
       "      <td>U dun say so early hor... U c already then say...</td>\n",
       "    </tr>\n",
       "    <tr>\n",
       "      <th>4</th>\n",
       "      <td>ham</td>\n",
       "      <td>Nah I don't think he goes to usf, he lives aro...</td>\n",
       "    </tr>\n",
       "  </tbody>\n",
       "</table>\n",
       "</div>"
      ],
      "text/plain": [
       "  Target                                               mail\n",
       "0    ham  Go until jurong point, crazy.. Available only ...\n",
       "1    ham                      Ok lar... Joking wif u oni...\n",
       "2   spam  Free entry in 2 a wkly comp to win FA Cup fina...\n",
       "3    ham  U dun say so early hor... U c already then say...\n",
       "4    ham  Nah I don't think he goes to usf, he lives aro..."
      ]
     },
     "execution_count": 6,
     "metadata": {},
     "output_type": "execute_result"
    }
   ],
   "source": [
    "df.head()"
   ]
  },
  {
   "cell_type": "code",
   "execution_count": 7,
   "id": "ff3a8642",
   "metadata": {
    "execution": {
     "iopub.execute_input": "2024-02-02T20:39:13.267184Z",
     "iopub.status.busy": "2024-02-02T20:39:13.266537Z",
     "iopub.status.idle": "2024-02-02T20:39:13.272954Z",
     "shell.execute_reply": "2024-02-02T20:39:13.272033Z"
    },
    "papermill": {
     "duration": 0.021466,
     "end_time": "2024-02-02T20:39:13.275371",
     "exception": false,
     "start_time": "2024-02-02T20:39:13.253905",
     "status": "completed"
    },
    "tags": []
   },
   "outputs": [
    {
     "data": {
      "text/plain": [
       "(5572, 2)"
      ]
     },
     "execution_count": 7,
     "metadata": {},
     "output_type": "execute_result"
    }
   ],
   "source": [
    "df.shape"
   ]
  },
  {
   "cell_type": "markdown",
   "id": "0d428689",
   "metadata": {
    "papermill": {
     "duration": 0.010458,
     "end_time": "2024-02-02T20:39:13.297280",
     "exception": false,
     "start_time": "2024-02-02T20:39:13.286822",
     "status": "completed"
    },
    "tags": []
   },
   "source": [
    "# Importing necessary libraries and stopwordlist"
   ]
  },
  {
   "cell_type": "code",
   "execution_count": 8,
   "id": "a27ce1d2",
   "metadata": {
    "execution": {
     "iopub.execute_input": "2024-02-02T20:39:13.321631Z",
     "iopub.status.busy": "2024-02-02T20:39:13.320907Z",
     "iopub.status.idle": "2024-02-02T20:39:15.688030Z",
     "shell.execute_reply": "2024-02-02T20:39:15.686440Z"
    },
    "papermill": {
     "duration": 2.383222,
     "end_time": "2024-02-02T20:39:15.691314",
     "exception": false,
     "start_time": "2024-02-02T20:39:13.308092",
     "status": "completed"
    },
    "tags": []
   },
   "outputs": [
    {
     "name": "stdout",
     "output_type": "stream",
     "text": [
      "[nltk_data] Downloading package stopwords to /usr/share/nltk_data...\n",
      "[nltk_data]   Package stopwords is already up-to-date!\n"
     ]
    }
   ],
   "source": [
    "import nltk\n",
    "nltk.download(\"stopwords\")\n",
    "from nltk.stem import PorterStemmer\n",
    "import string\n",
    "tokill=string.punctuation"
   ]
  },
  {
   "cell_type": "code",
   "execution_count": 9,
   "id": "9024ec02",
   "metadata": {
    "execution": {
     "iopub.execute_input": "2024-02-02T20:39:15.715676Z",
     "iopub.status.busy": "2024-02-02T20:39:15.715263Z",
     "iopub.status.idle": "2024-02-02T20:39:15.723432Z",
     "shell.execute_reply": "2024-02-02T20:39:15.722341Z"
    },
    "papermill": {
     "duration": 0.02387,
     "end_time": "2024-02-02T20:39:15.726290",
     "exception": false,
     "start_time": "2024-02-02T20:39:15.702420",
     "status": "completed"
    },
    "tags": []
   },
   "outputs": [],
   "source": [
    "from nltk.corpus import stopwords\n",
    "sw = stopwords.words('english')"
   ]
  },
  {
   "cell_type": "code",
   "execution_count": 10,
   "id": "5c9e1c9c",
   "metadata": {
    "execution": {
     "iopub.execute_input": "2024-02-02T20:39:15.751152Z",
     "iopub.status.busy": "2024-02-02T20:39:15.750729Z",
     "iopub.status.idle": "2024-02-02T20:39:15.756231Z",
     "shell.execute_reply": "2024-02-02T20:39:15.755069Z"
    },
    "papermill": {
     "duration": 0.020891,
     "end_time": "2024-02-02T20:39:15.758666",
     "exception": false,
     "start_time": "2024-02-02T20:39:15.737775",
     "status": "completed"
    },
    "tags": []
   },
   "outputs": [],
   "source": [
    "ps=PorterStemmer()"
   ]
  },
  {
   "cell_type": "markdown",
   "id": "4949cc06",
   "metadata": {
    "papermill": {
     "duration": 0.010623,
     "end_time": "2024-02-02T20:39:15.780224",
     "exception": false,
     "start_time": "2024-02-02T20:39:15.769601",
     "status": "completed"
    },
    "tags": []
   },
   "source": [
    "# Implementing the data cleaning function"
   ]
  },
  {
   "cell_type": "code",
   "execution_count": 11,
   "id": "1a2a9d15",
   "metadata": {
    "execution": {
     "iopub.execute_input": "2024-02-02T20:39:15.804406Z",
     "iopub.status.busy": "2024-02-02T20:39:15.803958Z",
     "iopub.status.idle": "2024-02-02T20:39:15.811260Z",
     "shell.execute_reply": "2024-02-02T20:39:15.809961Z"
    },
    "papermill": {
     "duration": 0.022434,
     "end_time": "2024-02-02T20:39:15.813685",
     "exception": false,
     "start_time": "2024-02-02T20:39:15.791251",
     "status": "completed"
    },
    "tags": []
   },
   "outputs": [],
   "source": [
    "def data_cleaning(x):\n",
    "    wordlist=[]\n",
    "    for word in x.split():\n",
    "        word=word.lower()\n",
    "        if word not in sw:\n",
    "            letterlist=[]\n",
    "            for letter in word:\n",
    "                if letter not in tokill:\n",
    "                    letterlist.append(letter)\n",
    "            stemword=ps.stem(\"\".join(letterlist))\n",
    "            wordlist.append(stemword)\n",
    "    x=\" \".join(wordlist)\n",
    "    return x        "
   ]
  },
  {
   "cell_type": "code",
   "execution_count": 12,
   "id": "f33b9584",
   "metadata": {
    "execution": {
     "iopub.execute_input": "2024-02-02T20:39:15.837397Z",
     "iopub.status.busy": "2024-02-02T20:39:15.836980Z",
     "iopub.status.idle": "2024-02-02T20:39:18.098090Z",
     "shell.execute_reply": "2024-02-02T20:39:18.096804Z"
    },
    "papermill": {
     "duration": 2.276336,
     "end_time": "2024-02-02T20:39:18.100968",
     "exception": false,
     "start_time": "2024-02-02T20:39:15.824632",
     "status": "completed"
    },
    "tags": []
   },
   "outputs": [],
   "source": [
    "df[\"mail\"]=df[\"mail\"].apply(data_cleaning)"
   ]
  },
  {
   "cell_type": "code",
   "execution_count": 13,
   "id": "a5802339",
   "metadata": {
    "execution": {
     "iopub.execute_input": "2024-02-02T20:39:18.125410Z",
     "iopub.status.busy": "2024-02-02T20:39:18.124949Z",
     "iopub.status.idle": "2024-02-02T20:39:18.135368Z",
     "shell.execute_reply": "2024-02-02T20:39:18.134094Z"
    },
    "papermill": {
     "duration": 0.025336,
     "end_time": "2024-02-02T20:39:18.137590",
     "exception": false,
     "start_time": "2024-02-02T20:39:18.112254",
     "status": "completed"
    },
    "tags": []
   },
   "outputs": [
    {
     "data": {
      "text/html": [
       "<div>\n",
       "<style scoped>\n",
       "    .dataframe tbody tr th:only-of-type {\n",
       "        vertical-align: middle;\n",
       "    }\n",
       "\n",
       "    .dataframe tbody tr th {\n",
       "        vertical-align: top;\n",
       "    }\n",
       "\n",
       "    .dataframe thead th {\n",
       "        text-align: right;\n",
       "    }\n",
       "</style>\n",
       "<table border=\"1\" class=\"dataframe\">\n",
       "  <thead>\n",
       "    <tr style=\"text-align: right;\">\n",
       "      <th></th>\n",
       "      <th>Target</th>\n",
       "      <th>mail</th>\n",
       "    </tr>\n",
       "  </thead>\n",
       "  <tbody>\n",
       "    <tr>\n",
       "      <th>0</th>\n",
       "      <td>ham</td>\n",
       "      <td>go jurong point crazi avail bugi n great world...</td>\n",
       "    </tr>\n",
       "    <tr>\n",
       "      <th>1</th>\n",
       "      <td>ham</td>\n",
       "      <td>ok lar joke wif u oni</td>\n",
       "    </tr>\n",
       "    <tr>\n",
       "      <th>2</th>\n",
       "      <td>spam</td>\n",
       "      <td>free entri 2 wkli comp win fa cup final tkt 21...</td>\n",
       "    </tr>\n",
       "    <tr>\n",
       "      <th>3</th>\n",
       "      <td>ham</td>\n",
       "      <td>u dun say earli hor u c alreadi say</td>\n",
       "    </tr>\n",
       "    <tr>\n",
       "      <th>4</th>\n",
       "      <td>ham</td>\n",
       "      <td>nah think goe usf live around though</td>\n",
       "    </tr>\n",
       "  </tbody>\n",
       "</table>\n",
       "</div>"
      ],
      "text/plain": [
       "  Target                                               mail\n",
       "0    ham  go jurong point crazi avail bugi n great world...\n",
       "1    ham                              ok lar joke wif u oni\n",
       "2   spam  free entri 2 wkli comp win fa cup final tkt 21...\n",
       "3    ham                u dun say earli hor u c alreadi say\n",
       "4    ham               nah think goe usf live around though"
      ]
     },
     "execution_count": 13,
     "metadata": {},
     "output_type": "execute_result"
    }
   ],
   "source": [
    "df.head()"
   ]
  },
  {
   "cell_type": "markdown",
   "id": "0f183572",
   "metadata": {
    "papermill": {
     "duration": 0.010739,
     "end_time": "2024-02-02T20:39:18.159812",
     "exception": false,
     "start_time": "2024-02-02T20:39:18.149073",
     "status": "completed"
    },
    "tags": []
   },
   "source": [
    "# Changing targets from categorical to numerical columns"
   ]
  },
  {
   "cell_type": "code",
   "execution_count": 14,
   "id": "92ef4d6d",
   "metadata": {
    "execution": {
     "iopub.execute_input": "2024-02-02T20:39:18.183707Z",
     "iopub.status.busy": "2024-02-02T20:39:18.183232Z",
     "iopub.status.idle": "2024-02-02T20:39:18.190715Z",
     "shell.execute_reply": "2024-02-02T20:39:18.189422Z"
    },
    "papermill": {
     "duration": 0.022452,
     "end_time": "2024-02-02T20:39:18.193255",
     "exception": false,
     "start_time": "2024-02-02T20:39:18.170803",
     "status": "completed"
    },
    "tags": []
   },
   "outputs": [],
   "source": [
    "df[\"Target\"]=df[\"Target\"].map({\"ham\":0,\"spam\":1})"
   ]
  },
  {
   "cell_type": "markdown",
   "id": "60429e81",
   "metadata": {
    "papermill": {
     "duration": 0.01087,
     "end_time": "2024-02-02T20:39:18.215264",
     "exception": false,
     "start_time": "2024-02-02T20:39:18.204394",
     "status": "completed"
    },
    "tags": []
   },
   "source": [
    "# Training and testing models"
   ]
  },
  {
   "cell_type": "code",
   "execution_count": 15,
   "id": "605b863f",
   "metadata": {
    "execution": {
     "iopub.execute_input": "2024-02-02T20:39:18.239816Z",
     "iopub.status.busy": "2024-02-02T20:39:18.239339Z",
     "iopub.status.idle": "2024-02-02T20:39:18.249083Z",
     "shell.execute_reply": "2024-02-02T20:39:18.247699Z"
    },
    "papermill": {
     "duration": 0.025573,
     "end_time": "2024-02-02T20:39:18.252023",
     "exception": false,
     "start_time": "2024-02-02T20:39:18.226450",
     "status": "completed"
    },
    "tags": []
   },
   "outputs": [],
   "source": [
    "from sklearn.model_selection import train_test_split\n",
    "xtrain,xtest,ytrain,ytest=train_test_split(df[\"mail\"],df[\"Target\"],test_size=0.3,random_state=42)"
   ]
  },
  {
   "cell_type": "code",
   "execution_count": 16,
   "id": "1ca0a895",
   "metadata": {
    "execution": {
     "iopub.execute_input": "2024-02-02T20:39:18.277408Z",
     "iopub.status.busy": "2024-02-02T20:39:18.276908Z",
     "iopub.status.idle": "2024-02-02T20:39:18.282637Z",
     "shell.execute_reply": "2024-02-02T20:39:18.281410Z"
    },
    "papermill": {
     "duration": 0.021992,
     "end_time": "2024-02-02T20:39:18.285333",
     "exception": false,
     "start_time": "2024-02-02T20:39:18.263341",
     "status": "completed"
    },
    "tags": []
   },
   "outputs": [],
   "source": [
    "from sklearn.feature_extraction.text import CountVectorizer\n",
    "from sklearn.feature_extraction.text import TfidfVectorizer"
   ]
  },
  {
   "cell_type": "code",
   "execution_count": 17,
   "id": "ed400619",
   "metadata": {
    "execution": {
     "iopub.execute_input": "2024-02-02T20:39:18.310006Z",
     "iopub.status.busy": "2024-02-02T20:39:18.309535Z",
     "iopub.status.idle": "2024-02-02T20:39:18.315071Z",
     "shell.execute_reply": "2024-02-02T20:39:18.313679Z"
    },
    "papermill": {
     "duration": 0.021128,
     "end_time": "2024-02-02T20:39:18.317684",
     "exception": false,
     "start_time": "2024-02-02T20:39:18.296556",
     "status": "completed"
    },
    "tags": []
   },
   "outputs": [],
   "source": [
    "\n",
    "tf=TfidfVectorizer()"
   ]
  },
  {
   "cell_type": "code",
   "execution_count": 18,
   "id": "fe334170",
   "metadata": {
    "execution": {
     "iopub.execute_input": "2024-02-02T20:39:18.342748Z",
     "iopub.status.busy": "2024-02-02T20:39:18.342183Z",
     "iopub.status.idle": "2024-02-02T20:39:18.595243Z",
     "shell.execute_reply": "2024-02-02T20:39:18.594052Z"
    },
    "papermill": {
     "duration": 0.269038,
     "end_time": "2024-02-02T20:39:18.598187",
     "exception": false,
     "start_time": "2024-02-02T20:39:18.329149",
     "status": "completed"
    },
    "tags": []
   },
   "outputs": [],
   "source": [
    "xtrainout=tf.fit_transform(xtrain).toarray()"
   ]
  },
  {
   "cell_type": "code",
   "execution_count": 19,
   "id": "22654efe",
   "metadata": {
    "execution": {
     "iopub.execute_input": "2024-02-02T20:39:18.623142Z",
     "iopub.status.busy": "2024-02-02T20:39:18.622716Z",
     "iopub.status.idle": "2024-02-02T20:39:19.143735Z",
     "shell.execute_reply": "2024-02-02T20:39:19.142480Z"
    },
    "papermill": {
     "duration": 0.538255,
     "end_time": "2024-02-02T20:39:19.147784",
     "exception": false,
     "start_time": "2024-02-02T20:39:18.609529",
     "status": "completed"
    },
    "tags": []
   },
   "outputs": [
    {
     "data": {
      "text/html": [
       "<style>#sk-container-id-1 {color: black;background-color: white;}#sk-container-id-1 pre{padding: 0;}#sk-container-id-1 div.sk-toggleable {background-color: white;}#sk-container-id-1 label.sk-toggleable__label {cursor: pointer;display: block;width: 100%;margin-bottom: 0;padding: 0.3em;box-sizing: border-box;text-align: center;}#sk-container-id-1 label.sk-toggleable__label-arrow:before {content: \"▸\";float: left;margin-right: 0.25em;color: #696969;}#sk-container-id-1 label.sk-toggleable__label-arrow:hover:before {color: black;}#sk-container-id-1 div.sk-estimator:hover label.sk-toggleable__label-arrow:before {color: black;}#sk-container-id-1 div.sk-toggleable__content {max-height: 0;max-width: 0;overflow: hidden;text-align: left;background-color: #f0f8ff;}#sk-container-id-1 div.sk-toggleable__content pre {margin: 0.2em;color: black;border-radius: 0.25em;background-color: #f0f8ff;}#sk-container-id-1 input.sk-toggleable__control:checked~div.sk-toggleable__content {max-height: 200px;max-width: 100%;overflow: auto;}#sk-container-id-1 input.sk-toggleable__control:checked~label.sk-toggleable__label-arrow:before {content: \"▾\";}#sk-container-id-1 div.sk-estimator input.sk-toggleable__control:checked~label.sk-toggleable__label {background-color: #d4ebff;}#sk-container-id-1 div.sk-label input.sk-toggleable__control:checked~label.sk-toggleable__label {background-color: #d4ebff;}#sk-container-id-1 input.sk-hidden--visually {border: 0;clip: rect(1px 1px 1px 1px);clip: rect(1px, 1px, 1px, 1px);height: 1px;margin: -1px;overflow: hidden;padding: 0;position: absolute;width: 1px;}#sk-container-id-1 div.sk-estimator {font-family: monospace;background-color: #f0f8ff;border: 1px dotted black;border-radius: 0.25em;box-sizing: border-box;margin-bottom: 0.5em;}#sk-container-id-1 div.sk-estimator:hover {background-color: #d4ebff;}#sk-container-id-1 div.sk-parallel-item::after {content: \"\";width: 100%;border-bottom: 1px solid gray;flex-grow: 1;}#sk-container-id-1 div.sk-label:hover label.sk-toggleable__label {background-color: #d4ebff;}#sk-container-id-1 div.sk-serial::before {content: \"\";position: absolute;border-left: 1px solid gray;box-sizing: border-box;top: 0;bottom: 0;left: 50%;z-index: 0;}#sk-container-id-1 div.sk-serial {display: flex;flex-direction: column;align-items: center;background-color: white;padding-right: 0.2em;padding-left: 0.2em;position: relative;}#sk-container-id-1 div.sk-item {position: relative;z-index: 1;}#sk-container-id-1 div.sk-parallel {display: flex;align-items: stretch;justify-content: center;background-color: white;position: relative;}#sk-container-id-1 div.sk-item::before, #sk-container-id-1 div.sk-parallel-item::before {content: \"\";position: absolute;border-left: 1px solid gray;box-sizing: border-box;top: 0;bottom: 0;left: 50%;z-index: -1;}#sk-container-id-1 div.sk-parallel-item {display: flex;flex-direction: column;z-index: 1;position: relative;background-color: white;}#sk-container-id-1 div.sk-parallel-item:first-child::after {align-self: flex-end;width: 50%;}#sk-container-id-1 div.sk-parallel-item:last-child::after {align-self: flex-start;width: 50%;}#sk-container-id-1 div.sk-parallel-item:only-child::after {width: 0;}#sk-container-id-1 div.sk-dashed-wrapped {border: 1px dashed gray;margin: 0 0.4em 0.5em 0.4em;box-sizing: border-box;padding-bottom: 0.4em;background-color: white;}#sk-container-id-1 div.sk-label label {font-family: monospace;font-weight: bold;display: inline-block;line-height: 1.2em;}#sk-container-id-1 div.sk-label-container {text-align: center;}#sk-container-id-1 div.sk-container {/* jupyter's `normalize.less` sets `[hidden] { display: none; }` but bootstrap.min.css set `[hidden] { display: none !important; }` so we also need the `!important` here to be able to override the default hidden behavior on the sphinx rendered scikit-learn.org. See: https://github.com/scikit-learn/scikit-learn/issues/21755 */display: inline-block !important;position: relative;}#sk-container-id-1 div.sk-text-repr-fallback {display: none;}</style><div id=\"sk-container-id-1\" class=\"sk-top-container\"><div class=\"sk-text-repr-fallback\"><pre>LogisticRegression()</pre><b>In a Jupyter environment, please rerun this cell to show the HTML representation or trust the notebook. <br />On GitHub, the HTML representation is unable to render, please try loading this page with nbviewer.org.</b></div><div class=\"sk-container\" hidden><div class=\"sk-item\"><div class=\"sk-estimator sk-toggleable\"><input class=\"sk-toggleable__control sk-hidden--visually\" id=\"sk-estimator-id-1\" type=\"checkbox\" checked><label for=\"sk-estimator-id-1\" class=\"sk-toggleable__label sk-toggleable__label-arrow\">LogisticRegression</label><div class=\"sk-toggleable__content\"><pre>LogisticRegression()</pre></div></div></div></div></div>"
      ],
      "text/plain": [
       "LogisticRegression()"
      ]
     },
     "execution_count": 19,
     "metadata": {},
     "output_type": "execute_result"
    }
   ],
   "source": [
    "from sklearn.linear_model import LogisticRegression\n",
    "lr=LogisticRegression()\n",
    "lr.fit(xtrainout,ytrain)"
   ]
  },
  {
   "cell_type": "code",
   "execution_count": 20,
   "id": "7fbe968f",
   "metadata": {
    "execution": {
     "iopub.execute_input": "2024-02-02T20:39:19.199730Z",
     "iopub.status.busy": "2024-02-02T20:39:19.197553Z",
     "iopub.status.idle": "2024-02-02T20:39:19.264401Z",
     "shell.execute_reply": "2024-02-02T20:39:19.263245Z"
    },
    "papermill": {
     "duration": 0.095893,
     "end_time": "2024-02-02T20:39:19.267459",
     "exception": false,
     "start_time": "2024-02-02T20:39:19.171566",
     "status": "completed"
    },
    "tags": []
   },
   "outputs": [],
   "source": [
    "xtestout=tf.transform(xtest)"
   ]
  },
  {
   "cell_type": "code",
   "execution_count": 21,
   "id": "e2bf91d5",
   "metadata": {
    "execution": {
     "iopub.execute_input": "2024-02-02T20:39:19.293121Z",
     "iopub.status.busy": "2024-02-02T20:39:19.292102Z",
     "iopub.status.idle": "2024-02-02T20:39:19.311929Z",
     "shell.execute_reply": "2024-02-02T20:39:19.310466Z"
    },
    "papermill": {
     "duration": 0.03528,
     "end_time": "2024-02-02T20:39:19.314562",
     "exception": false,
     "start_time": "2024-02-02T20:39:19.279282",
     "status": "completed"
    },
    "tags": []
   },
   "outputs": [
    {
     "name": "stdout",
     "output_type": "stream",
     "text": [
      "0.9521531100478469\n",
      "              precision    recall  f1-score   support\n",
      "\n",
      "           0       0.95      1.00      0.97      1453\n",
      "           1       0.97      0.65      0.78       219\n",
      "\n",
      "    accuracy                           0.95      1672\n",
      "   macro avg       0.96      0.83      0.88      1672\n",
      "weighted avg       0.95      0.95      0.95      1672\n",
      "\n"
     ]
    }
   ],
   "source": [
    "from sklearn.metrics import accuracy_score,classification_report\n",
    "pred=lr.predict(xtestout)\n",
    "print(accuracy_score(ytest,pred))\n",
    "print(classification_report(ytest,pred))"
   ]
  },
  {
   "cell_type": "code",
   "execution_count": 22,
   "id": "cba5dd69",
   "metadata": {
    "execution": {
     "iopub.execute_input": "2024-02-02T20:39:19.341381Z",
     "iopub.status.busy": "2024-02-02T20:39:19.340189Z",
     "iopub.status.idle": "2024-02-02T20:39:38.082887Z",
     "shell.execute_reply": "2024-02-02T20:39:38.081070Z"
    },
    "papermill": {
     "duration": 18.759384,
     "end_time": "2024-02-02T20:39:38.086188",
     "exception": false,
     "start_time": "2024-02-02T20:39:19.326804",
     "status": "completed"
    },
    "tags": []
   },
   "outputs": [
    {
     "name": "stdout",
     "output_type": "stream",
     "text": [
      "0.9748803827751196\n",
      "              precision    recall  f1-score   support\n",
      "\n",
      "           0       0.97      1.00      0.99      1453\n",
      "           1       1.00      0.81      0.89       219\n",
      "\n",
      "    accuracy                           0.97      1672\n",
      "   macro avg       0.99      0.90      0.94      1672\n",
      "weighted avg       0.98      0.97      0.97      1672\n",
      "\n"
     ]
    }
   ],
   "source": [
    "from sklearn.ensemble import RandomForestClassifier\n",
    "rfc=RandomForestClassifier()\n",
    "rfc.fit(xtrainout,ytrain)\n",
    "pred=rfc.predict(xtestout)\n",
    "print(accuracy_score(ytest,pred))\n",
    "print(classification_report(ytest,pred))"
   ]
  },
  {
   "cell_type": "code",
   "execution_count": 23,
   "id": "6c2c51a8",
   "metadata": {
    "execution": {
     "iopub.execute_input": "2024-02-02T20:39:38.113285Z",
     "iopub.status.busy": "2024-02-02T20:39:38.112081Z",
     "iopub.status.idle": "2024-02-02T20:39:57.179926Z",
     "shell.execute_reply": "2024-02-02T20:39:57.178519Z"
    },
    "papermill": {
     "duration": 19.084235,
     "end_time": "2024-02-02T20:39:57.182982",
     "exception": false,
     "start_time": "2024-02-02T20:39:38.098747",
     "status": "completed"
    },
    "tags": []
   },
   "outputs": [
    {
     "name": "stdout",
     "output_type": "stream",
     "text": [
      "0.9754784688995215\n",
      "              precision    recall  f1-score   support\n",
      "\n",
      "           0       0.97      1.00      0.99      1453\n",
      "           1       1.00      0.81      0.90       219\n",
      "\n",
      "    accuracy                           0.98      1672\n",
      "   macro avg       0.99      0.91      0.94      1672\n",
      "weighted avg       0.98      0.98      0.97      1672\n",
      "\n"
     ]
    }
   ],
   "source": [
    "cv=CountVectorizer()\n",
    "xtrainout_2=cv.fit_transform(xtrain).toarray()\n",
    "xtestout_2=cv.transform(xtest)\n",
    "rfc=RandomForestClassifier()\n",
    "rfc.fit(xtrainout_2,ytrain)\n",
    "pred=rfc.predict(xtestout_2)\n",
    "print(accuracy_score(ytest,pred))\n",
    "print(classification_report(ytest,pred))"
   ]
  },
  {
   "cell_type": "code",
   "execution_count": 24,
   "id": "b2102160",
   "metadata": {
    "execution": {
     "iopub.execute_input": "2024-02-02T20:39:57.208259Z",
     "iopub.status.busy": "2024-02-02T20:39:57.207813Z",
     "iopub.status.idle": "2024-02-02T20:39:58.339797Z",
     "shell.execute_reply": "2024-02-02T20:39:58.338024Z"
    },
    "papermill": {
     "duration": 1.149844,
     "end_time": "2024-02-02T20:39:58.344714",
     "exception": false,
     "start_time": "2024-02-02T20:39:57.194870",
     "status": "completed"
    },
    "tags": []
   },
   "outputs": [
    {
     "name": "stdout",
     "output_type": "stream",
     "text": [
      "0.9802631578947368\n",
      "              precision    recall  f1-score   support\n",
      "\n",
      "           0       0.98      1.00      0.99      1453\n",
      "           1       0.99      0.85      0.92       219\n",
      "\n",
      "    accuracy                           0.98      1672\n",
      "   macro avg       0.99      0.93      0.95      1672\n",
      "weighted avg       0.98      0.98      0.98      1672\n",
      "\n"
     ]
    }
   ],
   "source": [
    "cv=CountVectorizer()\n",
    "lr=LogisticRegression()\n",
    "xtrainout_2=cv.fit_transform(xtrain).toarray()\n",
    "xtestout_2=cv.transform(xtest)\n",
    "lr=LogisticRegression()\n",
    "lr.fit(xtrainout_2,ytrain)\n",
    "pred=lr.predict(xtestout_2)\n",
    "print(accuracy_score(ytest,pred))\n",
    "print(classification_report(ytest,pred))"
   ]
  },
  {
   "cell_type": "code",
   "execution_count": null,
   "id": "59f3729e",
   "metadata": {
    "papermill": {
     "duration": 0.024582,
     "end_time": "2024-02-02T20:39:58.394121",
     "exception": false,
     "start_time": "2024-02-02T20:39:58.369539",
     "status": "completed"
    },
    "tags": []
   },
   "outputs": [],
   "source": []
  }
 ],
 "metadata": {
  "kaggle": {
   "accelerator": "none",
   "dataSources": [
    {
     "datasetId": 483,
     "sourceId": 982,
     "sourceType": "datasetVersion"
    }
   ],
   "dockerImageVersionId": 30646,
   "isGpuEnabled": false,
   "isInternetEnabled": true,
   "language": "python",
   "sourceType": "notebook"
  },
  "kernelspec": {
   "display_name": "Python 3",
   "language": "python",
   "name": "python3"
  },
  "language_info": {
   "codemirror_mode": {
    "name": "ipython",
    "version": 3
   },
   "file_extension": ".py",
   "mimetype": "text/x-python",
   "name": "python",
   "nbconvert_exporter": "python",
   "pygments_lexer": "ipython3",
   "version": "3.10.13"
  },
  "papermill": {
   "default_parameters": {},
   "duration": 50.470669,
   "end_time": "2024-02-02T20:39:59.148892",
   "environment_variables": {},
   "exception": null,
   "input_path": "__notebook__.ipynb",
   "output_path": "__notebook__.ipynb",
   "parameters": {},
   "start_time": "2024-02-02T20:39:08.678223",
   "version": "2.5.0"
  }
 },
 "nbformat": 4,
 "nbformat_minor": 5
}
